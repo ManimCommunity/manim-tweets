{
 "cells": [
  {
   "cell_type": "code",
   "execution_count": null,
   "metadata": {},
   "outputs": [],
   "source": [
    "import manim\n",
    "from pendulum import Pendulum\n",
    "from manim import *"
   ]
  },
  {
   "cell_type": "code",
   "execution_count": null,
   "metadata": {},
   "outputs": [],
   "source": [
    "%%manim Pendulum1 -v WARNING --disable_caching -qm -s \n",
    "\n",
    "class Pendulum1(Scene):\n",
    "    def construct(self):\n",
    "        pendulum = Pendulum(weight=1, amplitude=12, acceleration=10, length=3, time=0)\n",
    "        self.add(pendulum)"
   ]
  },
  {
   "cell_type": "code",
   "execution_count": null,
   "metadata": {},
   "outputs": [],
   "source": [
    "%%manim Pendulum2 -v WARNING --disable_caching -qm -s\n",
    "# remove -s to see the video\n",
    "\n",
    "class Pendulum2(Scene):\n",
    "    def construct(self):\n",
    "        pendulum = Pendulum(weight=1, amplitude=12, acceleration=10, length=3, time=0)\n",
    "        self.add(pendulum)\n",
    "        pendulum.start()\n",
    "        self.wait(2)"
   ]
  },
  {
   "cell_type": "code",
   "execution_count": null,
   "metadata": {},
   "outputs": [],
   "source": [
    "%%manim Pendulum3 -v WARNING --disable_caching -qm \n",
    "\n",
    "class Pendulum3(Scene):\n",
    "    def construct(self):\n",
    "        amplitudes = [5,10,15,20,25,30,35]\n",
    "        total= len(amplitudes)\n",
    "        for i,val in enumerate(amplitudes):\n",
    "            pendulum = Pendulum(weight= 1.8,amplitude=val,acceleration= 10, length=4,time= 0)\n",
    "            anchor_pos= pendulum.anchor.get_center()\n",
    "            pendulum.anchor.set_color(YELLOW)\n",
    "            pendulum.mass.scale(1.8)\n",
    "            dest_pos = (-total/2+i)*1.2*RIGHT+2*UP\n",
    "            pendulum.shift(anchor_pos+dest_pos)\n",
    "            self.add(pendulum)\n",
    "            pendulum.start()\n",
    "        self.wait(6)"
   ]
  },
  {
   "cell_type": "code",
   "execution_count": null,
   "metadata": {},
   "outputs": [],
   "source": [
    "%%manim Pendulum4 -v WARNING --disable_caching -qm \n",
    "\n",
    "class Pendulum4(Scene):\n",
    "    def construct(self):\n",
    "        lengths = [2,2.2,2.3,2.4,2.5,2.6]\n",
    "        total= len(lengths)\n",
    "        for i,val in enumerate(lengths):\n",
    "            pendulum = Pendulum(weight= 4,amplitude=30,acceleration= 10, length=val,time= 0)\n",
    "            pendulum.anchor.set_color(RED)\n",
    "            pendulum.mass.scale(1.4)\n",
    "            anchor_pos= pendulum.anchor.get_center()\n",
    "            dest_pos = (-total/2+i)*1.1*RIGHT+2*UP\n",
    "            pendulum.shift(anchor_pos+dest_pos)\n",
    "            self.add(pendulum)\n",
    "            pendulum.start()\n",
    "        waiting_time=6\n",
    "        self.wait(waiting_time)\n",
    "\n",
    "        for mobj in self.mobjects:\n",
    "            for sound_stamp in mobj.sound_stamps_there:\n",
    "                self.add_sound(\"tick.mp3\", time_offset=-waiting_time + sound_stamp)\n",
    "            for sound_stamp in mobj.sound_stamps_back:\n",
    "                self.add_sound(\"tock.mp3\", time_offset=-waiting_time + sound_stamp)\n",
    "        self.wait(1)"
   ]
  },
  {
   "cell_type": "code",
   "execution_count": null,
   "metadata": {},
   "outputs": [],
   "source": []
  }
 ],
 "metadata": {
  "kernelspec": {
   "display_name": "Python 3",
   "language": "python",
   "name": "python3"
  },
  "language_info": {
   "codemirror_mode": {
    "name": "ipython",
    "version": 3
   },
   "file_extension": ".py",
   "mimetype": "text/x-python",
   "name": "python",
   "nbconvert_exporter": "python",
   "pygments_lexer": "ipython3",
   "version": "3.9.1"
  }
 },
 "nbformat": 4,
 "nbformat_minor": 4
}
