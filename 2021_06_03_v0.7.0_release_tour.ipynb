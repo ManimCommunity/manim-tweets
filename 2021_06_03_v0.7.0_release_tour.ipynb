{
 "cells": [
  {
   "cell_type": "code",
   "execution_count": 2,
   "id": "1059ad74",
   "metadata": {},
   "outputs": [
    {
     "data": {
      "text/html": [
       "<pre style=\"white-space:pre;overflow-x:auto;line-height:normal;font-family:Menlo,'DejaVu Sans Mono',consolas,'Courier New',monospace\">Manim Community <span style=\"color: #008000\">v0.7.0</span>\n",
       "\n",
       "</pre>\n"
      ],
      "text/plain": [
       "<rich.jupyter.JupyterRenderable at 0x176603250>"
      ]
     },
     "metadata": {},
     "output_type": "display_data"
    }
   ],
   "source": [
    "import manim\n",
    "from manim import *"
   ]
  },
  {
   "cell_type": "code",
   "execution_count": null,
   "id": "769fffc1",
   "metadata": {},
   "outputs": [],
   "source": []
  },
  {
   "cell_type": "code",
   "execution_count": 4,
   "id": "973b9b8c",
   "metadata": {},
   "outputs": [
    {
     "name": "stderr",
     "output_type": "stream",
     "text": [
      "                                                                                                        \r"
     ]
    },
    {
     "data": {
      "text/html": [
       "<video src=\"media/jupyter/5d86d34f0b68b402778bcfc52a7e005ec6e1f550.mp4\" controls autoplay loop style=\"max-width: 25vw;\"  >\n",
       "      Your browser does not support the <code>video</code> element.\n",
       "    </video>"
      ],
      "text/plain": [
       "<IPython.core.display.Video object>"
      ]
     },
     "metadata": {},
     "output_type": "display_data"
    }
   ],
   "source": [
    "%%manim -v WARNING --disable_caching -qh Intro\n",
    "\n",
    "class Intro(Scene):\n",
    "    def construct(self):\n",
    "        text=Text(\"Release Tour v0.7.0\").to_edge(UP).shift(DOWN).scale(2)\n",
    "        self.add(text)\n",
    "        banner = ManimBanner().scale(0.5).shift(DOWN)\n",
    "        self.play(banner.create())\n",
    "        self.wait()\n",
    "        self.play(\n",
    "            FadeOut(text),\n",
    "            Transform(banner, ManimBanner().scale(0.3).to_corner(DR))\n",
    "        )\n"
   ]
  },
  {
   "cell_type": "code",
   "execution_count": 6,
   "id": "f9c3c635",
   "metadata": {},
   "outputs": [
    {
     "name": "stderr",
     "output_type": "stream",
     "text": [
      "                                                                                                        \r"
     ]
    },
    {
     "data": {
      "text/html": [
       "<video src=\"media/jupyter/0bbd5341e83dec2a24ee5c6b4bbeb6cb22d3ed4c.mp4\" controls autoplay loop style=\"max-width: 25vw;\"  >\n",
       "      Your browser does not support the <code>video</code> element.\n",
       "    </video>"
      ],
      "text/plain": [
       "<IPython.core.display.Video object>"
      ]
     },
     "metadata": {},
     "output_type": "display_data"
    }
   ],
   "source": [
    "%%manim -v WARNING --disable_caching -qh Polar\n",
    "\n",
    "class Polar(Scene):\n",
    "    def construct(self):\n",
    "        self.add(ManimBanner().scale(0.3).to_corner(DR))\n",
    "\n",
    "        polarplane_pi = PolarPlane(\n",
    "            azimuth_units=\"PI radians\",\n",
    "            size=6,\n",
    "            azimuth_label_scale=0.7,\n",
    "            radius_config={\"number_scale_value\": 0.7},\n",
    "        ).add_coordinates()\n",
    "        l1= Line(color=YELLOW)\n",
    "        t1= Text(\"New Mobjects:\").scale(0.7)\n",
    "        t2= Text(\"PolarPlane\").scale(0.7)\n",
    "        t3= Text(\"ArcBrace\").scale(0.7)\n",
    "\n",
    "        t1.to_corner(UR)\n",
    "        t2.next_to(t1,DOWN)\n",
    "        t2.set_color(BLUE)\n",
    "        t3.set_color(YELLOW)\n",
    "        t3.next_to(t2,DOWN)\n",
    "\n",
    "\n",
    "        arc_2 = Arc(radius=2,start_angle=0,angle=PI/2).set_color(ORANGE)\n",
    "        brace_2 = ArcBrace(arc_2).set_color(YELLOW)\n",
    "        group_2 = VGroup(arc_2,brace_2)\n",
    "        self.play(FadeIn(polarplane_pi,t1,t2))\n",
    "        self.wait()\n",
    "        self.play(FadeIn(group_2, t3))\n",
    "        self.wait(2)\n",
    "        self.play(FadeOut(polarplane_pi), FadeOut(t1), FadeOut(t2), FadeOut(t3), FadeOut(group_2))"
   ]
  },
  {
   "cell_type": "code",
   "execution_count": 7,
   "id": "fb886ca0",
   "metadata": {},
   "outputs": [
    {
     "name": "stderr",
     "output_type": "stream",
     "text": [
      "                                                                                     \r"
     ]
    },
    {
     "data": {
      "text/html": [
       "<video src=\"media/jupyter/f8d33abd8a1c4d6f97ddf4cfc03b3e4d2845839f.mp4\" controls autoplay loop style=\"max-width: 25vw;\"  >\n",
       "      Your browser does not support the <code>video</code> element.\n",
       "    </video>"
      ],
      "text/plain": [
       "<IPython.core.display.Video object>"
      ]
     },
     "metadata": {},
     "output_type": "display_data"
    }
   ],
   "source": [
    "%%manim -v WARNING --disable_caching -qh StarPolygram\n",
    "\n",
    "class StarPolygram(Scene):\n",
    "    def construct(self):\n",
    "        self.add(ManimBanner().scale(0.3).to_corner(DR))\n",
    "\n",
    "        e1=Dot()\n",
    "        e1t=Text(\"Star\").to_edge(DOWN).shift(UP)\n",
    "        e1 = Star(7, outer_radius=2, density=2, color=RED)\n",
    "        e2 = Star(7, outer_radius=2, density=3, color=PURPLE)\n",
    "        hexagram = Polygram(\n",
    "            [[0, 2, 0], [-np.sqrt(3), -1, 0], [np.sqrt(3), -1, 0]],\n",
    "            [[-np.sqrt(3), 1, 0], [0, -2, 0], [np.sqrt(3), 1, 0]],\n",
    "        )\n",
    "        self.play(FadeIn(e1t,e1))\n",
    "        self.play(Transform(e1, e2))\n",
    "        hexa_text=Text(\"Polygram\").to_edge(DOWN).shift(UP)\n",
    "        self.play(FadeOut(e1, scale=2),FadeIn(hexagram, scale=0.1),FadeOut(e1t, scale=1.4), FadeIn(hexa_text,scale=0.4))\n",
    "        self.wait()\n",
    "        self.play(FadeOut(hexagram), FadeOut(hexa_text))"
   ]
  },
  {
   "cell_type": "code",
   "execution_count": 8,
   "id": "49af9fab",
   "metadata": {},
   "outputs": [
    {
     "name": "stderr",
     "output_type": "stream",
     "text": [
      "                                                                                                         \r"
     ]
    },
    {
     "data": {
      "text/html": [
       "<video src=\"media/jupyter/c01b1b60f561ec190f356a4e764ba5356a291bdc.mp4\" controls autoplay loop style=\"max-width: 25vw;\"  >\n",
       "      Your browser does not support the <code>video</code> element.\n",
       "    </video>"
      ],
      "text/plain": [
       "<IPython.core.display.Video object>"
      ]
     },
     "metadata": {},
     "output_type": "display_data"
    }
   ],
   "source": [
    "%%manim -v WARNING --disable_caching -qh Diagrams\n",
    "\n",
    "class Diagrams(Scene):\n",
    "    def construct(self):\n",
    "        # self.camera.background_color = WHITE\n",
    "        text=Text(\"Class diagrams in the docs\").to_edge(UP).scale(1.2)\n",
    "        self.add(BackgroundRectangle(text, buff=0.15))\n",
    "        self.play(Write(text))\n",
    "        self.wait()\n",
    "\n",
    "        "
   ]
  },
  {
   "cell_type": "code",
   "execution_count": 10,
   "id": "22e5d38d",
   "metadata": {},
   "outputs": [
    {
     "name": "stderr",
     "output_type": "stream",
     "text": [
      "                                                                                                              \r"
     ]
    },
    {
     "data": {
      "text/html": [
       "<video src=\"media/jupyter/58476ea978af1df8a33128c3819ddbfff83dc7c9.mp4\" controls autoplay loop style=\"max-width: 25vw;\"  >\n",
       "      Your browser does not support the <code>video</code> element.\n",
       "    </video>"
      ],
      "text/plain": [
       "<IPython.core.display.Video object>"
      ]
     },
     "metadata": {},
     "output_type": "display_data"
    }
   ],
   "source": [
    "%%manim -v WARNING --disable_caching -qh ColorsOverview\n",
    "\n",
    "\n",
    "from manim.utils.color import Colors\n",
    "\n",
    "\n",
    "\n",
    "class ColorsOverview(Scene):\n",
    "    def construct(self):\n",
    "        banner = ManimBanner().scale(0.3).to_corner(DR)\n",
    "        self.add(banner)\n",
    "\n",
    "        def color_group(color):\n",
    "            group = VGroup(\n",
    "                *[\n",
    "                    Line(ORIGIN, RIGHT * 1.5, stroke_width=35, color=Colors[name].value)\n",
    "                    for name in subnames(color)\n",
    "                ]\n",
    "            ).arrange_submobjects(buff=0.4, direction=DOWN)\n",
    "\n",
    "            name = Text(color).scale(0.6).next_to(group, UP, buff=0.3)\n",
    "            if any(decender in color for decender in \"gjpqy\"):\n",
    "                name.shift(DOWN * 0.08)\n",
    "            group.add(name)\n",
    "            return group\n",
    "\n",
    "        def subnames(name):\n",
    "            return [name + \"_\" + char for char in \"abcde\"]\n",
    "\n",
    "        color_groups = VGroup(\n",
    "            *[\n",
    "                color_group(color)\n",
    "                for color in [\n",
    "                    \"blue\",\n",
    "                    \"teal\",\n",
    "                    \"green\",\n",
    "                    \"yellow\",\n",
    "                    \"gold\",\n",
    "                    \"red\",\n",
    "                    \"maroon\",\n",
    "                    \"purple\",\n",
    "                ]\n",
    "            ]\n",
    "        ).arrange_submobjects(buff=0.2, aligned_edge=DOWN)\n",
    "\n",
    "        for line, char in zip(color_groups[0], \"abcde\"):\n",
    "            color_groups.add(Text(char).scale(0.6).next_to(line, LEFT, buff=0.2))\n",
    "\n",
    "        def named_lines_group(length, colors, names, text_colors, align_to_block):\n",
    "            lines = VGroup(\n",
    "                *[\n",
    "                    Line(\n",
    "                        ORIGIN,\n",
    "                        RIGHT * length,\n",
    "                        stroke_width=55,\n",
    "                        color=Colors[color].value,\n",
    "                    )\n",
    "                    for color in colors\n",
    "                ]\n",
    "            ).arrange_submobjects(buff=0.6, direction=DOWN)\n",
    "\n",
    "            for line, name, color in zip(lines, names, text_colors):\n",
    "                line.add(Text(name, color=color).scale(0.6).move_to(line))\n",
    "            lines.next_to(color_groups, DOWN, buff=0.5).align_to(\n",
    "                color_groups[align_to_block], LEFT\n",
    "            )\n",
    "            return lines\n",
    "\n",
    "        other_colors = (\n",
    "            \"pink\",\n",
    "            \"light_pink\",\n",
    "            \"orange\",\n",
    "            \"light_brown\",\n",
    "            \"dark_brown\",\n",
    "            \"gray_brown\",\n",
    "        )\n",
    "\n",
    "        other_lines = named_lines_group(\n",
    "            3.2,\n",
    "            other_colors,\n",
    "            other_colors,\n",
    "            [BLACK] * 4 + [WHITE] * 2,\n",
    "            0,\n",
    "        )\n",
    "\n",
    "        gray_lines = named_lines_group(\n",
    "            6.6,\n",
    "            [\"white\"] + subnames(\"gray\") + [\"black\"],\n",
    "            [\n",
    "                \"white\",\n",
    "                \"lighter_gray / gray_a\",\n",
    "                \"light_gray / gray_b\",\n",
    "                \"gray / gray_c\",\n",
    "                \"dark_gray / gray_d\",\n",
    "                \"darker_gray / gray_e\",\n",
    "                \"black\",\n",
    "            ],\n",
    "            [BLACK] * 3 + [WHITE] * 4,\n",
    "            2,\n",
    "        )\n",
    "\n",
    "        pure_colors = (\n",
    "            \"pure_red\",\n",
    "            \"pure_green\",\n",
    "            \"pure_blue\",\n",
    "        )\n",
    "\n",
    "        pure_lines = named_lines_group(\n",
    "            3.2,\n",
    "            pure_colors,\n",
    "            pure_colors,\n",
    "            [BLACK, BLACK, WHITE],\n",
    "            6,\n",
    "        )\n",
    "\n",
    "        self.add(color_groups, other_lines, gray_lines, pure_lines)\n",
    "\n",
    "        VGroup(*self.mobjects).remove(banner).move_to(ORIGIN)\n",
    "        self.remove(color_groups, other_lines, gray_lines, pure_lines)\n",
    "        tt=Text(\"New color cheatsheet in the docs\")\n",
    "        self.play(FadeIn(tt), run_time=0.2)\n",
    "        self.play(FadeIn(color_groups,shift=0.1*UP, lag_ratio=0.05), run_time=3)\n",
    "        self.play(FadeOut(tt),run_time=0.2)\n",
    "\n",
    "        self.play(FadeIn(other_lines,gray_lines,pure_lines,shift=0.1*UP))\n",
    "        self.wait()\n",
    "        self.play(FadeOut(*self.mobjects))\n",
    "\n"
   ]
  },
  {
   "cell_type": "code",
   "execution_count": 16,
   "id": "a2b4c2d8",
   "metadata": {},
   "outputs": [
    {
     "name": "stderr",
     "output_type": "stream",
     "text": [
      "                                                                                                                \r"
     ]
    },
    {
     "data": {
      "text/html": [
       "<video src=\"media/jupyter/0f976798e305e1453f350902a1dd6caac7891c67.mp4\" controls autoplay loop style=\"max-width: 25vw;\"  >\n",
       "      Your browser does not support the <code>video</code> element.\n",
       "    </video>"
      ],
      "text/plain": [
       "<IPython.core.display.Video object>"
      ]
     },
     "metadata": {},
     "output_type": "display_data"
    }
   ],
   "source": [
    "%%manim -v WARNING --disable_caching -qh End\n",
    "\n",
    "class End(Scene):\n",
    "    def construct(self):\n",
    "        banner = ManimBanner().scale(0.3).to_corner(DR)\n",
    "        self.add(banner)\n",
    "\n",
    "        f5t= Text(\"...and lots of other enhancements!\").scale(1.3).shift(UP)\n",
    "        f5tb= Text(\"Visit us at docs.manim.community\",t2c={'[9:]':\"#e07a5f\"}).scale(1.3).shift(DOWN)\n",
    "        self.play(FadeIn(f5t,shift=UP))\n",
    "        self.play(FadeIn(f5tb,shift=UP))\n",
    "        self.play(banner.animate.shift(LEFT))\n",
    "        self.play(banner.expand())\n",
    "        self.wait(2)\n"
   ]
  },
  {
   "cell_type": "code",
   "execution_count": null,
   "id": "becba3fe",
   "metadata": {},
   "outputs": [],
   "source": []
  }
 ],
 "metadata": {
  "kernelspec": {
   "display_name": "Python 3",
   "language": "python",
   "name": "python3"
  },
  "language_info": {
   "codemirror_mode": {
    "name": "ipython",
    "version": 3
   },
   "file_extension": ".py",
   "mimetype": "text/x-python",
   "name": "python",
   "nbconvert_exporter": "python",
   "pygments_lexer": "ipython3",
   "version": "3.9.2"
  }
 },
 "nbformat": 4,
 "nbformat_minor": 5
}
