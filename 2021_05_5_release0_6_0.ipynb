{
 "cells": [
  {
   "cell_type": "code",
   "execution_count": 13,
   "metadata": {},
   "outputs": [],
   "source": [
    "from manim import *"
   ]
  },
  {
   "cell_type": "code",
   "execution_count": 29,
   "metadata": {},
   "outputs": [
    {
     "name": "stderr",
     "output_type": "stream",
     "text": [
      "                                                                                                           \r"
     ]
    },
    {
     "data": {
      "text/html": [
       "<video src=\"media/jupyter/9ef7b323b55e8c0e85cb52da56d317f6a4a660e0.mp4\" controls autoplay loop style=\"max-width: 20vw;\"  >\n",
       "      Your browser does not support the <code>video</code> element.\n",
       "    </video>"
      ],
      "text/plain": [
       "<IPython.core.display.Video object>"
      ]
     },
     "metadata": {},
     "output_type": "display_data"
    }
   ],
   "source": [
    "%%manim -v WARNING --disable_caching -qm  Example1\n",
    "\n",
    "class Example1(Scene):\n",
    "    def construct(self):\n",
    "        self.add(Title(\"Manim Version 0.6.0\"))\n",
    "        func = lambda pos: ((pos[0]*UR+pos[1]*LEFT) - pos)/3\n",
    "        f1= StreamLines(func).scale(0.5)\n",
    "        f1t=Text(\"Reworked StreamLines\").next_to(f1,DOWN)\n",
    "        self.play(f1.create(), run_time=1)\n",
    "        self.play(FadeIn(f1t))\n",
    "        self.play(FadeOut(f1), FadeOut(f1t))"
   ]
  },
  {
   "cell_type": "code",
   "execution_count": 37,
   "metadata": {},
   "outputs": [
    {
     "name": "stderr",
     "output_type": "stream",
     "text": [
      "                                                                                                     \r"
     ]
    },
    {
     "data": {
      "text/html": [
       "<video src=\"media/jupyter/0974add1b0dd9a9f9bbfdd2766653e88d05608a1.mp4\" controls autoplay loop style=\"max-width: 20vw;\"  >\n",
       "      Your browser does not support the <code>video</code> element.\n",
       "    </video>"
      ],
      "text/plain": [
       "<IPython.core.display.Video object>"
      ]
     },
     "metadata": {},
     "output_type": "display_data"
    }
   ],
   "source": [
    "%%manim -v WARNING --disable_caching -qm  LineGraphExample\n",
    "\n",
    "class LineGraphExample(Scene):\n",
    "    def construct(self):\n",
    "        self.add(Title(\"Manim Version 0.6.0\"))\n",
    "\n",
    "        plane = NumberPlane(\n",
    "            x_range = (0, 7),\n",
    "            y_range = (0, 5),\n",
    "            x_length = 7,\n",
    "            axis_config={\"include_numbers\": True},\n",
    "        )\n",
    "        plane.center()\n",
    "        line_graph = plane.get_line_graph(\n",
    "            x_values = [0, 1.5, 2, 2.8, 4, 6.25],\n",
    "            y_values = [1, 3, 2.25, 4, 2.5, 1.75],\n",
    "            line_color=GOLD_E,\n",
    "            vertex_dot_style=dict(stroke_width=3,  fill_color=PURPLE),\n",
    "            stroke_width = 4,\n",
    "        )\n",
    "        f2 = VGroup() + plane + line_graph\n",
    "        f2t=Text(\"LineGraph\").next_to(f2,DOWN)\n",
    "        self.play(FadeIn(f2),FadeIn(f2t))\n",
    "        self.wait(1)\n",
    "        self.play(FadeOut(f2), FadeOut(f2t))\n",
    "        "
   ]
  },
  {
   "cell_type": "code",
   "execution_count": 52,
   "metadata": {},
   "outputs": [
    {
     "name": "stderr",
     "output_type": "stream",
     "text": [
      "                                                                                                  \r"
     ]
    },
    {
     "data": {
      "text/html": [
       "<video src=\"media/jupyter/a3f90cc24afe83fecccba1ab39a02bed5649eb74.mp4\" controls autoplay loop style=\"max-width: 20vw;\"  >\n",
       "      Your browser does not support the <code>video</code> element.\n",
       "    </video>"
      ],
      "text/plain": [
       "<IPython.core.display.Video object>"
      ]
     },
     "metadata": {},
     "output_type": "display_data"
    }
   ],
   "source": [
    "%%manim -v WARNING --disable_caching -qm  PolyhedronSubMobjects\n",
    "\n",
    "class PolyhedronSubMobjects(ThreeDScene):\n",
    "    def construct(self):\n",
    "        self.add_fixed_in_frame_mobjects(Title(\"Manim Version 0.6.0\"))\n",
    "        self.set_camera_orientation(phi=75 * DEGREES, theta=30 * DEGREES)\n",
    "        self.begin_ambient_camera_rotation(rate=0.2)\n",
    "        self.wait()\n",
    "\n",
    "        octahedron = Octahedron(edge_length = 3)\n",
    "        octahedron.graph[0].set_color(RED)\n",
    "        octahedron.faces[2].set_color(YELLOW)\n",
    "        f3=octahedron\n",
    "        f3t=Text(\"Octahedron\")\n",
    "        self.add_fixed_in_frame_mobjects(f3t.to_edge(DOWN))\n",
    "        self.play(FadeIn(f3))\n",
    "        self.wait(1)\n",
    "        self.remove(f3t)\n",
    "        self.play(FadeOut(f3))\n",
    "\n"
   ]
  },
  {
   "cell_type": "code",
   "execution_count": 60,
   "metadata": {},
   "outputs": [
    {
     "name": "stderr",
     "output_type": "stream",
     "text": [
      "                                                                                                \r"
     ]
    },
    {
     "data": {
      "text/html": [
       "<video src=\"media/jupyter/685ffe05905c2811a2bda0abc16491b88ef89a86.mp4\" controls autoplay loop style=\"max-width: 20vw;\"  >\n",
       "      Your browser does not support the <code>video</code> element.\n",
       "    </video>"
      ],
      "text/plain": [
       "<IPython.core.display.Video object>"
      ]
     },
     "metadata": {},
     "output_type": "display_data"
    }
   ],
   "source": [
    "%%manim -v WARNING --disable_caching -qm  Indications\n",
    "\n",
    "class Indications(Scene):\n",
    "    def construct(self):\n",
    "        self.add(Title(\"Manim Version 0.6.0\"))\n",
    "        f4t= Text(\"New Indications\").to_edge(DOWN)\n",
    "        self.play(FadeIn(f4t))\n",
    "        indications = [ApplyWave,Circumscribe,Flash,FocusOn,Indicate,ShowPassingFlash,Wiggle]\n",
    "        names = [Tex(i.__name__).scale(3) for i in indications]\n",
    "\n",
    "        self.add(names[0])\n",
    "        for i in range(len(names)):\n",
    "            if indications[i] is Flash:\n",
    "                self.play(Flash(UP))\n",
    "            elif indications[i] is ShowPassingFlash:\n",
    "                self.play(ShowPassingFlash(Underline(names[i])))\n",
    "            else:\n",
    "                self.play(indications[i](names[i]))\n",
    "            self.play(AnimationGroup(\n",
    "                FadeOutAndShift(names[i], UP*1.5),\n",
    "                FadeInFrom(names[(i+1)%len(names)], DOWN*1.5),\n",
    "            ))\n",
    "        self.play(FadeOut(f4t))"
   ]
  },
  {
   "cell_type": "code",
   "execution_count": 99,
   "metadata": {},
   "outputs": [
    {
     "name": "stderr",
     "output_type": "stream",
     "text": [
      "                                                                                                                    \r"
     ]
    },
    {
     "data": {
      "text/html": [
       "<video src=\"media/jupyter/87673f1697d7703b2b98589d7fe21c0b1e2ceb1b.mp4\" controls autoplay loop style=\"max-width: 20vw;\"  >\n",
       "      Your browser does not support the <code>video</code> element.\n",
       "    </video>"
      ],
      "text/plain": [
       "<IPython.core.display.Video object>"
      ]
     },
     "metadata": {},
     "output_type": "display_data"
    }
   ],
   "source": [
    "%%manim -v WARNING --disable_caching -qm  End\n",
    "\n",
    "class End(Scene):\n",
    "    def construct(self):\n",
    "        self.add(Title(\"Manim Version 0.6.0\"))\n",
    "        f5t= Text(\"...and lots of other enhancements!\").scale(1.3).shift(UP)\n",
    "        f5tb= Text(\"Visit us at docs.manim.community\",t2c={'[9:]':\"#e07a5f\"}).scale(1.3).shift(DOWN)\n",
    "        self.play(FadeInFrom(f5t,DOWN))\n",
    "        self.play(FadeInFrom(f5tb,DOWN))\n",
    "        banner = ManimBanner(dark_theme=True).scale(0.3).to_corner(DR).shift(LEFT)\n",
    "        self.play(FadeIn(banner))\n",
    "        self.play(banner.expand())\n",
    "        #self.play(FadeOut(banner))\n",
    "        self.wait(2)"
   ]
  },
  {
   "cell_type": "code",
   "execution_count": null,
   "metadata": {},
   "outputs": [],
   "source": []
  },
  {
   "cell_type": "code",
   "execution_count": null,
   "metadata": {},
   "outputs": [],
   "source": [
    "\n",
    "    class Indications(Scene):\n",
    "        def construct(self):\n",
    "            indications = [ApplyWave,Circumscribe,Flash,FocusOn,Indicate,ShowPassingFlash,Wiggle]\n",
    "            names = [Tex(i.__name__).scale(3) for i in indications]\n",
    "\n",
    "            self.add(names[0])\n",
    "            for i in range(len(names)):\n",
    "                if indications[i] is Flash:\n",
    "                    self.play(Flash(UP))\n",
    "                elif indications[i] is ShowPassingFlash:\n",
    "                    self.play(ShowPassingFlash(Underline(names[i])))\n",
    "                else:\n",
    "                    self.play(indications[i](names[i]))\n",
    "                self.play(AnimationGroup(\n",
    "                    FadeOutAndShift(names[i], UP*1.5),\n",
    "                    FadeInFrom(names[(i+1)%len(names)], DOWN*1.5),\n",
    "                ))\n"
   ]
  }
 ],
 "metadata": {
  "kernelspec": {
   "display_name": "Python 3",
   "language": "python",
   "name": "python3"
  },
  "language_info": {
   "codemirror_mode": {
    "name": "ipython",
    "version": 3
   },
   "file_extension": ".py",
   "mimetype": "text/x-python",
   "name": "python",
   "nbconvert_exporter": "python",
   "pygments_lexer": "ipython3",
   "version": "3.9.2"
  }
 },
 "nbformat": 4,
 "nbformat_minor": 4
}
